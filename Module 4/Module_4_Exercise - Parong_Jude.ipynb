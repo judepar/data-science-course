{
 "cells": [
  {
   "cell_type": "markdown",
   "metadata": {},
   "source": [
    "# Data Visualization Exercise\n",
    "\n",
    "For this exercise, use your creativity and understanding of the different concepts of data visualization.\n",
    "\n",
    "Create a plot (or a series of subplots) from whatever dataset you choose. As much as possible, please choose a dataset of relevance for visual storytelling. Make the plot using `python`. It doesn't matter if you choose to use `matplotlib` or `seaborn`. \n",
    "\n",
    "For the submission:\n",
    "1. Upload the code that generates the plot to your GitHub repository or to Google Classroom (whichever method you're using for submissions).\n",
    "2. Upload a png file of the visualization to Google Classroom and write in the Private Comments the caption for the figure you submitted.\n",
    "3. Make sure to provide the data source in the same folder.\n",
    "\n",
    "Please make an effort to make it a good and compelling graphic. Choose your colors according to the type of data you're visualizing. Make sure to label everything and avoid clutter. \n",
    "\n",
    "As a reference for color choices, you can go to [CARTOColors](https://carto.com/carto-colors/). Simply click on the color map of your choice and it will copy the HEX code of the color."
   ]
  },
  {
   "cell_type": "code",
   "execution_count": 1,
   "metadata": {},
   "outputs": [
    {
     "name": "stdout",
     "output_type": "stream",
     "text": [
      "Populating the interactive namespace from numpy and matplotlib\n"
     ]
    }
   ],
   "source": [
    "import pandas as pd\n",
    "import numpy as np\n",
    "import matplotlib.pyplot as plt\n",
    "import seaborn as sns\n",
    "\n",
    "%pylab inline"
   ]
  },
  {
   "cell_type": "markdown",
   "metadata": {},
   "source": [
    "### Data Source\n",
    "\n",
    "Edit this cell to place the direct link to your data source.\n",
    "\n",
    "You may use the datasets you've downloaded for your project as your submission for this assignment. "
   ]
  },
  {
   "cell_type": "code",
   "execution_count": 2,
   "metadata": {},
   "outputs": [
    {
     "data": {
      "text/html": [
       "<div>\n",
       "<style scoped>\n",
       "    .dataframe tbody tr th:only-of-type {\n",
       "        vertical-align: middle;\n",
       "    }\n",
       "\n",
       "    .dataframe tbody tr th {\n",
       "        vertical-align: top;\n",
       "    }\n",
       "\n",
       "    .dataframe thead th {\n",
       "        text-align: right;\n",
       "    }\n",
       "</style>\n",
       "<table border=\"1\" class=\"dataframe\">\n",
       "  <thead>\n",
       "    <tr style=\"text-align: right;\">\n",
       "      <th></th>\n",
       "      <th>Name</th>\n",
       "      <th>Description</th>\n",
       "      <th>Ingredients</th>\n",
       "      <th>Sell Price</th>\n",
       "    </tr>\n",
       "  </thead>\n",
       "  <tbody>\n",
       "    <tr>\n",
       "      <th>0</th>\n",
       "      <td>Fish Taco</td>\n",
       "      <td>It smells delicious.</td>\n",
       "      <td>Tuna  Tuna (1)Tortilla  Tortilla (1)Red Cabbag...</td>\n",
       "      <td>500</td>\n",
       "    </tr>\n",
       "    <tr>\n",
       "      <th>1</th>\n",
       "      <td>Pink Cake</td>\n",
       "      <td>There's little heart candies on top.</td>\n",
       "      <td>Melon  Melon (1)Wheat Flour  Wheat Flour (1)Su...</td>\n",
       "      <td>480</td>\n",
       "    </tr>\n",
       "    <tr>\n",
       "      <th>2</th>\n",
       "      <td>Triple Shot Espresso</td>\n",
       "      <td>It's more potent than regular coffee!</td>\n",
       "      <td>Coffee  Coffee (3)</td>\n",
       "      <td>450</td>\n",
       "    </tr>\n",
       "    <tr>\n",
       "      <th>3</th>\n",
       "      <td>Pumpkin Pie</td>\n",
       "      <td>Silky pumpkin cream in a flakey crust.</td>\n",
       "      <td>Pumpkin  Pumpkin (1)Wheat Flour  Wheat Flour (...</td>\n",
       "      <td>385</td>\n",
       "    </tr>\n",
       "    <tr>\n",
       "      <th>4</th>\n",
       "      <td>Complete Breakfast</td>\n",
       "      <td>You'll feel ready to take on the world!</td>\n",
       "      <td>Fried Egg (1)Milk  Milk (1)Hashbrowns  Hashbro...</td>\n",
       "      <td>350</td>\n",
       "    </tr>\n",
       "  </tbody>\n",
       "</table>\n",
       "</div>"
      ],
      "text/plain": [
       "                   Name                              Description  \\\n",
       "0             Fish Taco                     It smells delicious.   \n",
       "1             Pink Cake     There's little heart candies on top.   \n",
       "2  Triple Shot Espresso    It's more potent than regular coffee!   \n",
       "3           Pumpkin Pie   Silky pumpkin cream in a flakey crust.   \n",
       "4    Complete Breakfast  You'll feel ready to take on the world!   \n",
       "\n",
       "                                         Ingredients  Sell Price  \n",
       "0  Tuna  Tuna (1)Tortilla  Tortilla (1)Red Cabbag...         500  \n",
       "1  Melon  Melon (1)Wheat Flour  Wheat Flour (1)Su...         480  \n",
       "2                                 Coffee  Coffee (3)         450  \n",
       "3  Pumpkin  Pumpkin (1)Wheat Flour  Wheat Flour (...         385  \n",
       "4  Fried Egg (1)Milk  Milk (1)Hashbrowns  Hashbro...         350  "
      ]
     },
     "execution_count": 2,
     "metadata": {},
     "output_type": "execute_result"
    }
   ],
   "source": [
    "data = pd.read_csv('short_recipe_price.csv')\n",
    "data.head()"
   ]
  },
  {
   "cell_type": "code",
   "execution_count": 3,
   "metadata": {},
   "outputs": [
    {
     "data": {
      "text/plain": [
       "Index(['Name', 'Description', 'Ingredients', 'Sell Price'], dtype='object')"
      ]
     },
     "execution_count": 3,
     "metadata": {},
     "output_type": "execute_result"
    }
   ],
   "source": [
    "data.columns"
   ]
  },
  {
   "cell_type": "code",
   "execution_count": 4,
   "metadata": {},
   "outputs": [
    {
     "name": "stdout",
     "output_type": "stream",
     "text": [
      "Total number of recipes:  25\n"
     ]
    }
   ],
   "source": [
    "print('Total number of recipes: ', len(data))"
   ]
  },
  {
   "cell_type": "code",
   "execution_count": 8,
   "metadata": {},
   "outputs": [
    {
     "data": {
      "image/png": "[encoded data removed]",
      "text/plain": [
       "<Figure size 720x360 with 1 Axes>"
      ]
     },
     "metadata": {
      "needs_background": "light"
     },
     "output_type": "display_data"
    }
   ],
   "source": [
    "fig = plt.figure(figsize=(10, 5))\n",
    "\n",
    "objects = (data['Name'])\n",
    "y_pos = np.arange(len(data))\n",
    "price = (data['Sell Price'])\n",
    "\n",
    "plt.barh(y_pos, price, alpha=0.5, color=['#FF0000', '#00FF00', \"#4682B4\"])\n",
    "plt.yticks(y_pos, objects)\n",
    "plt.xlabel('Sell Price')\n",
    "plt.ylabel('Recipe Names')\n",
    "plt.title('Recipe Prices in SDV')\n",
    "\n",
    "plt.show()"
   ]
  },
  {
   "cell_type": "code",
   "execution_count": 9,
   "metadata": {},
   "outputs": [],
   "source": [
    "fig.savefig('Recipe_Price_SDV_Parong_Jude.png')"
   ]
  },
  {
   "cell_type": "markdown",
   "metadata": {},
   "source": [
    "Caption: This is a figure a sample of recipes that you can sell in SDV"
   ]
  },
  {
   "cell_type": "code",
   "execution_count": null,
   "metadata": {},
   "outputs": [],
   "source": []
  }
 ],
 "metadata": {
  "kernelspec": {
   "display_name": "Python 3",
   "language": "python",
   "name": "python3"
  },
  "language_info": {
   "codemirror_mode": {
    "name": "ipython",
    "version": 3
   },
   "file_extension": ".py",
   "mimetype": "text/x-python",
   "name": "python",
   "nbconvert_exporter": "python",
   "pygments_lexer": "ipython3",
   "version": "3.7.7"
  }
 },
 "nbformat": 4,
 "nbformat_minor": 4
}
